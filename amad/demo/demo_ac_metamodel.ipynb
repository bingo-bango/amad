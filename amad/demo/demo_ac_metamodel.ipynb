{
 "cells": [
  {
   "cell_type": "code",
   "execution_count": 42,
   "metadata": {},
   "outputs": [],
   "source": [
    "from amad.demo.demo_aircraft_resources import CalculateAircraft\n",
    "from amad.disciplines.design.resources.aircraft_geometry_library import (\n",
    "        ac_narrow_body_long as airplane_geom,\n",
    "    )\n",
    "from amad.optimization.resources.set_parameters import single_aisle_concept\n",
    "from cosapp.drivers import NonLinearSolver\n",
    "from smt.sampling_methods import LHS\n",
    "import pandas"
   ]
  },
  {
   "cell_type": "code",
   "execution_count": 43,
   "metadata": {},
   "outputs": [
    {
     "name": "stdout",
     "output_type": "stream",
     "text": [
      "Wing Sweep = 23.5m | Wing Root Chord = 8.57m | Wing Taper Ratio = 0.252 | Wing Span = 34.32m | Crz fuel = 27466kg | solver code = 0 \n",
      "Wing Sweep = 23.5m | Wing Root Chord = 8.4m | Wing Taper Ratio = 0.252 | Wing Span = 34.32m | Crz fuel = 29061kg | solver code = 0 \n"
     ]
    }
   ],
   "source": [
    "def print_msg(ac_sys):\n",
    "    \"\"\"Print Routine\n",
    "\n",
    "    Args:\n",
    "        ac_sys (obj): summary of aircraft parameters\n",
    "    \"\"\"\n",
    "    msg = (\n",
    "        f\"Wing Sweep = {ac_sys.delta_wing_sweep[1]}m | \"\n",
    "        + f\"Wing Root Chord = {ac_sys.chord_wing_root}m | \"\n",
    "        + f\"Wing Taper Ratio = {ac_sys.r_wing_taper[1]} | \"\n",
    "        + f\"Wing Span = {ac_sys.x_wing_span[1]}m | \"\n",
    "        + f\"Crz fuel = {ac_sys.mass.m_fuel_cruise:.0f}kg | \"\n",
    "        + f\"solver code = {ac_sys.drivers['nls'].error_code} \"\n",
    "        \n",
    "    )\n",
    "    print(msg)\n",
    "\n",
    "def run_all(ac_sys):\n",
    "    calc_perf.run_drivers()\n",
    "    print_msg(ac_sys)\n",
    "\n",
    "tolerance = 1e-2\n",
    "calc_perf_init = CalculateAircraft(\"calc_perf\", airplane_geom=airplane_geom())\n",
    "calc_perf = single_aisle_concept(calc_perf_init)\n",
    "calc_perf.add_driver(NonLinearSolver(\"nls\", method=\"POWELL\", tol=tolerance))\n",
    "calc_perf.m_fuel_climb = 2300.0\n",
    "calc_perf.m_fuel_descent = 300.0\n",
    "calc_perf.m_fuel_taxi = 500.0\n",
    "calc_perf.mass.m_fuel_cruise = 123.0\n",
    "calc_perf.z_altitude = 11582.4  # cruise altitude\n",
    "calc_perf.mach_current = 0.75  # cruise mach\n",
    "calc_perf.thrust_eng = 120000.0\n",
    "calc_perf.n_pax = 150\n",
    "calc_perf.x_range = 5000 * 1000.0  # 5000km\n",
    "\n",
    "# inner_sweep = (31.5 / 23.5) * \n",
    "\n",
    "run_all(calc_perf)\n",
    "calc_perf.chord_wing_root = 8.4\n",
    "run_all(calc_perf)"
   ]
  },
  {
   "cell_type": "code",
   "execution_count": 44,
   "metadata": {},
   "outputs": [
    {
     "name": "stdout",
     "output_type": "stream",
     "text": [
      "(50, 4)\n"
     ]
    },
    {
     "data": {
      "image/png": "[encoded data removed]",
      "text/plain": [
       "<Figure size 640x480 with 1 Axes>"
      ]
     },
     "metadata": {},
     "output_type": "display_data"
    }
   ],
   "source": [
    "import matplotlib.pyplot as plt\n",
    "import numpy as np\n",
    "\n",
    "from smt.sampling_methods import LHS\n",
    "\n",
    "lim_sweep = [-40., 40.]\n",
    "lim_r_chord = [5., 10]\n",
    "lim_taper_r = [.1, .5]\n",
    "lim_span = [10., 40.]\n",
    "\n",
    "xlimits = np.array([\n",
    "    lim_sweep,\n",
    "    lim_r_chord,\n",
    "    lim_taper_r,\n",
    "    lim_span\n",
    "])\n",
    "\n",
    "sampling = LHS(xlimits=xlimits)\n",
    "\n",
    "num = 50\n",
    "x = sampling(num)\n",
    "\n",
    "print(x.shape)\n",
    "\n",
    "plt.plot(x[:, 1], x[:, 3], \"o\")\n",
    "plt.xlabel(\"x\")\n",
    "plt.ylabel(\"y\")\n",
    "plt.show()"
   ]
  },
  {
   "cell_type": "code",
   "execution_count": 41,
   "metadata": {},
   "outputs": [
    {
     "name": "stdout",
     "output_type": "stream",
     "text": [
      "Wing Sweep = 2.4000000000000057m | Wing Root Chord = 6.25m | Wing Taper Ratio = 0.36 | Wing Span = 12.1m | Crz fuel = 75608kg | solver code = 0 \n",
      "Wing Sweep = -21.6m | Wing Root Chord = 5.65m | Wing Taper Ratio = 0.248 | Wing Span = 19.3m | Crz fuel = 12040kg | solver code = 0 \n",
      "Wing Sweep = 13.600000000000001m | Wing Root Chord = 8.25m | Wing Taper Ratio = 0.45600000000000007 | Wing Span = 39.7m | Crz fuel = 24159kg | solver code = 0 \n",
      "Wing Sweep = 18.4m | Wing Root Chord = 5.55m | Wing Taper Ratio = 0.368 | Wing Span = 34.900000000000006m | Crz fuel = 42341kg | solver code = 0 \n",
      "Wing Sweep = -26.400000000000002m | Wing Root Chord = 8.65m | Wing Taper Ratio = 0.192 | Wing Span = 20.5m | Crz fuel = 12732kg | solver code = 0 \n",
      "Wing Sweep = 20.0m | Wing Root Chord = 6.95m | Wing Taper Ratio = 0.32000000000000006 | Wing Span = 30.1m | Crz fuel = 145878kg | solver code = 0 \n",
      "Wing Sweep = 0.7999999999999972m | Wing Root Chord = 9.35m | Wing Taper Ratio = 0.24 | Wing Span = 21.1m | Crz fuel = 81388kg | solver code = 0 \n",
      "Wing Sweep = -23.2m | Wing Root Chord = 9.25m | Wing Taper Ratio = 0.44000000000000006 | Wing Span = 12.7m | Crz fuel = 72123kg | solver code = 0 \n",
      "Wing Sweep = -36.0m | Wing Root Chord = 5.05m | Wing Taper Ratio = 0.42400000000000004 | Wing Span = 33.7m | Crz fuel = 29557kg | solver code = 0 \n",
      "Wing Sweep = 32.8m | Wing Root Chord = 8.95m | Wing Taper Ratio = 0.16799999999999998 | Wing Span = 33.1m | Crz fuel = 33898kg | solver code = 0 \n",
      "Wing Sweep = -5.600000000000001m | Wing Root Chord = 8.85m | Wing Taper Ratio = 0.376 | Wing Span = 18.1m | Crz fuel = 15699kg | solver code = 0 \n",
      "Wing Sweep = 39.2m | Wing Root Chord = 9.45m | Wing Taper Ratio = 0.28 | Wing Span = 25.3m | Crz fuel = 17856kg | solver code = 0 \n",
      "Wing Sweep = 7.199999999999996m | Wing Root Chord = 7.35m | Wing Taper Ratio = 0.18400000000000002 | Wing Span = 36.1m | Crz fuel = 89338kg | solver code = 0 \n",
      "Wing Sweep = 23.200000000000003m | Wing Root Chord = 7.65m | Wing Taper Ratio = 0.33599999999999997 | Wing Span = 13.9m | Crz fuel = 71612kg | solver code = 0 \n",
      "Wing Sweep = 12.0m | Wing Root Chord = 7.8500000000000005m | Wing Taper Ratio = 0.232 | Wing Span = 21.700000000000003m | Crz fuel = 98190kg | solver code = 0 \n",
      "Wing Sweep = -16.799999999999997m | Wing Root Chord = 5.25m | Wing Taper Ratio = 0.44800000000000006 | Wing Span = 25.9m | Crz fuel = 94222kg | solver code = 0 \n",
      "Wing Sweep = 31.200000000000003m | Wing Root Chord = 5.15m | Wing Taper Ratio = 0.20800000000000002 | Wing Span = 36.7m | Crz fuel = 98427kg | solver code = 0 \n",
      "Wing Sweep = 4.0m | Wing Root Chord = 9.15m | Wing Taper Ratio = 0.2 | Wing Span = 15.1m | Crz fuel = 63702kg | solver code = 0 \n",
      "Wing Sweep = 8.799999999999997m | Wing Root Chord = 6.05m | Wing Taper Ratio = 0.4 | Wing Span = 18.700000000000003m | Crz fuel = 15002kg | solver code = 0 \n",
      "Wing Sweep = 21.6m | Wing Root Chord = 8.35m | Wing Taper Ratio = 0.21600000000000003 | Wing Span = 11.5m | Crz fuel = 82819kg | solver code = 0 \n",
      "Wing Sweep = 24.80000000000001m | Wing Root Chord = 9.65m | Wing Taper Ratio = 0.32800000000000007 | Wing Span = 16.9m | Crz fuel = 17038kg | solver code = 0 \n",
      "Wing Sweep = -12.0m | Wing Root Chord = 7.55m | Wing Taper Ratio = 0.30400000000000005 | Wing Span = 13.3m | Crz fuel = 85985kg | solver code = 0 \n",
      "Wing Sweep = -28.0m | Wing Root Chord = 8.75m | Wing Taper Ratio = 0.28800000000000003 | Wing Span = 24.1m | Crz fuel = 42035kg | solver code = 0 \n",
      "Wing Sweep = 5.6000000000000085m | Wing Root Chord = 5.85m | Wing Taper Ratio = 0.272 | Wing Span = 26.5m | Crz fuel = 56600kg | solver code = 0 \n",
      "Wing Sweep = -34.4m | Wing Root Chord = 5.45m | Wing Taper Ratio = 0.10400000000000001 | Wing Span = 39.099999999999994m | Crz fuel = 34451kg | solver code = 0 \n",
      "Wing Sweep = -20.0m | Wing Root Chord = 6.75m | Wing Taper Ratio = 0.40800000000000003 | Wing Span = 28.9m | Crz fuel = 45059kg | solver code = 0 \n",
      "Wing Sweep = 29.599999999999994m | Wing Root Chord = 6.45m | Wing Taper Ratio = 0.31200000000000006 | Wing Span = 27.7m | Crz fuel = 73626kg | solver code = 0 \n",
      "Wing Sweep = 26.400000000000006m | Wing Root Chord = 7.050000000000001m | Wing Taper Ratio = 0.12000000000000001 | Wing Span = 17.5m | Crz fuel = 107321kg | solver code = 0 \n",
      "Wing Sweep = 16.799999999999997m | Wing Root Chord = 9.75m | Wing Taper Ratio = 0.4640000000000001 | Wing Span = 28.3m | Crz fuel = 49448kg | solver code = 0 \n",
      "Wing Sweep = -24.8m | Wing Root Chord = 9.95m | Wing Taper Ratio = 0.112 | Wing Span = 16.3m | Crz fuel = 13358kg | solver code = 0 \n",
      "Wing Sweep = -10.399999999999999m | Wing Root Chord = 8.45m | Wing Taper Ratio = 0.41600000000000004 | Wing Span = 10.9m | Crz fuel = 74112kg | solver code = 0 \n",
      "Wing Sweep = 28.0m | Wing Root Chord = 9.55m | Wing Taper Ratio = 0.15200000000000002 | Wing Span = 15.7m | Crz fuel = 16599kg | solver code = 0 \n",
      "Wing Sweep = -32.8m | Wing Root Chord = 7.25m | Wing Taper Ratio = 0.264 | Wing Span = 10.3m | Crz fuel = 11909kg | solver code = 0 \n",
      "Wing Sweep = -39.2m | Wing Root Chord = 6.55m | Wing Taper Ratio = 0.224 | Wing Span = 27.1m | Crz fuel = 35710kg | solver code = 0 \n",
      "Wing Sweep = -7.199999999999996m | Wing Root Chord = 5.75m | Wing Taper Ratio = 0.4720000000000001 | Wing Span = 22.9m | Crz fuel = 14133kg | solver code = 0 \n",
      "Wing Sweep = 10.399999999999999m | Wing Root Chord = 7.45m | Wing Taper Ratio = 0.496 | Wing Span = 22.3m | Crz fuel = 78814kg | solver code = 0 \n",
      "Wing Sweep = -8.799999999999997m | Wing Root Chord = 8.05m | Wing Taper Ratio = 0.29600000000000004 | Wing Span = 32.5m | Crz fuel = 36284kg | solver code = 0 \n",
      "Wing Sweep = -4.0m | Wing Root Chord = 7.75m | Wing Taper Ratio = 0.488 | Wing Span = 34.3m | Crz fuel = 29354kg | solver code = 0 \n",
      "Wing Sweep = -2.4000000000000057m | Wing Root Chord = 6.65m | Wing Taper Ratio = 0.43200000000000005 | Wing Span = 30.700000000000003m | Crz fuel = 40393kg | solver code = 0 \n",
      "Wing Sweep = -29.6m | Wing Root Chord = 5.95m | Wing Taper Ratio = 0.48 | Wing Span = 31.9m | Crz fuel = 39051kg | solver code = 0 \n",
      "Wing Sweep = -13.599999999999998m | Wing Root Chord = 6.15m | Wing Taper Ratio = 0.136 | Wing Span = 37.3m | Crz fuel = 30012kg | solver code = 0 \n",
      "Wing Sweep = 36.0m | Wing Root Chord = 8.15m | Wing Taper Ratio = 0.17600000000000002 | Wing Span = 23.5m | Crz fuel = 16718kg | solver code = 0 \n",
      "Wing Sweep = 34.400000000000006m | Wing Root Chord = 7.15m | Wing Taper Ratio = 0.256 | Wing Span = 38.5m | Crz fuel = 107376kg | solver code = 0 \n",
      "Wing Sweep = -0.7999999999999972m | Wing Root Chord = 8.55m | Wing Taper Ratio = 0.14400000000000002 | Wing Span = 37.900000000000006m | Crz fuel = 63036kg | solver code = 0 \n",
      "Wing Sweep = -18.4m | Wing Root Chord = 7.949999999999999m | Wing Taper Ratio = 0.352 | Wing Span = 31.299999999999997m | Crz fuel = 79234kg | solver code = 0 \n",
      "Wing Sweep = -37.6m | Wing Root Chord = 9.05m | Wing Taper Ratio = 0.344 | Wing Span = 14.5m | Crz fuel = 45984kg | solver code = 0 \n",
      "Wing Sweep = 15.200000000000003m | Wing Root Chord = 5.35m | Wing Taper Ratio = 0.384 | Wing Span = 35.5m | Crz fuel = 34553kg | solver code = 0 \n",
      "Wing Sweep = -31.2m | Wing Root Chord = 9.85m | Wing Taper Ratio = 0.128 | Wing Span = 24.7m | Crz fuel = 49156kg | solver code = 0 \n",
      "Wing Sweep = -15.2m | Wing Root Chord = 6.35m | Wing Taper Ratio = 0.392 | Wing Span = 29.5m | Crz fuel = 48187kg | solver code = 0 \n",
      "Wing Sweep = 37.599999999999994m | Wing Root Chord = 6.85m | Wing Taper Ratio = 0.16000000000000003 | Wing Span = 19.9m | Crz fuel = 14679kg | solver code = 0 \n"
     ]
    }
   ],
   "source": [
    "for i in range(0, num):\n",
    "    outer_sweep = x[:, 0][i]\n",
    "    inner_sweep = (31.5 / 23.5) * outer_sweep\n",
    "\n",
    "    calc_perf.delta_wing_sweep = [inner_sweep, outer_sweep]\n",
    "    calc_perf.chord_wing_root = x[:, 1][i]\n",
    "    calc_perf.r_wing_taper[1] = x[:, 2][i]\n",
    "    calc_perf.x_wing_span[1] = x[:, 3][i]\n",
    "\n",
    "    run_all(calc_perf)\n",
    "    "
   ]
  },
  {
   "cell_type": "code",
   "execution_count": 54,
   "metadata": {},
   "outputs": [
    {
     "data": {
      "text/plain": [
       "[[15.200000000000003, 9.45],\n",
       " [-5.600000000000001, 6.85],\n",
       " [-12.0, 7.8500000000000005],\n",
       " [-29.6, 8.45],\n",
       " [-37.6, 5.75],\n",
       " [-7.199999999999996, 8.85],\n",
       " [-2.4000000000000057, 5.05],\n",
       " [34.400000000000006, 8.95],\n",
       " [-20.0, 8.05],\n",
       " [-4.0, 6.15],\n",
       " [-36.0, 5.65],\n",
       " [-0.7999999999999972, 6.75],\n",
       " [-18.4, 5.35],\n",
       " [12.0, 7.55],\n",
       " [39.2, 6.95],\n",
       " [-13.599999999999998, 6.55],\n",
       " [31.200000000000003, 5.55],\n",
       " [26.400000000000006, 7.75],\n",
       " [-10.399999999999999, 7.949999999999999],\n",
       " [32.8, 6.45],\n",
       " [-34.4, 9.75],\n",
       " [29.599999999999994, 7.15],\n",
       " [-31.2, 9.25],\n",
       " [2.4000000000000057, 9.65],\n",
       " [37.599999999999994, 9.35],\n",
       " [24.80000000000001, 8.65],\n",
       " [-32.8, 9.05],\n",
       " [28.0, 6.35],\n",
       " [-24.8, 5.25],\n",
       " [36.0, 9.85],\n",
       " [-21.6, 9.55],\n",
       " [7.199999999999996, 6.65],\n",
       " [5.6000000000000085, 8.75],\n",
       " [0.7999999999999972, 5.95],\n",
       " [-16.799999999999997, 5.15],\n",
       " [-15.2, 7.25],\n",
       " [23.200000000000003, 9.95],\n",
       " [16.799999999999997, 7.35],\n",
       " [-8.799999999999997, 9.15],\n",
       " [-39.2, 8.25],\n",
       " [21.6, 7.65],\n",
       " [-26.400000000000002, 5.45],\n",
       " [4.0, 8.15],\n",
       " [-23.2, 6.05],\n",
       " [18.4, 6.25],\n",
       " [-28.0, 8.35],\n",
       " [13.600000000000001, 5.85],\n",
       " [8.799999999999997, 7.050000000000001],\n",
       " [10.399999999999999, 8.55],\n",
       " [20.0, 7.45]]"
      ]
     },
     "execution_count": 54,
     "metadata": {},
     "output_type": "execute_result"
    }
   ],
   "source": [
    "\n",
    "surrogate_model_data = pandas.DataFrame(x)\n",
    "\n",
    "surrogate_model_data[[0, 1]].values.tolist()"
   ]
  }
 ],
 "metadata": {
  "kernelspec": {
   "display_name": "amad",
   "language": "python",
   "name": "python3"
  },
  "language_info": {
   "codemirror_mode": {
    "name": "ipython",
    "version": 3
   },
   "file_extension": ".py",
   "mimetype": "text/x-python",
   "name": "python",
   "nbconvert_exporter": "python",
   "pygments_lexer": "ipython3",
   "version": "3.10.13"
  }
 },
 "nbformat": 4,
 "nbformat_minor": 2
}
